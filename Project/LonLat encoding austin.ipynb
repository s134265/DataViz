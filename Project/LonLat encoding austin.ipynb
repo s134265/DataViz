{
 "cells": [
  {
   "cell_type": "code",
   "execution_count": 68,
   "metadata": {
    "collapsed": true
   },
   "outputs": [],
   "source": [
    "from pyproj import Proj, transform\n",
    "import stateplane\n",
    "import geopandas as gpd\n",
    "import pandas as pd\n",
    "import numpy as np\n",
    "import matplotlib.pyplot as plt\n",
    "from shapely.geometry import Point\n",
    "from shapely import geometry\n",
    "import geojson"
   ]
  },
  {
   "cell_type": "code",
   "execution_count": 123,
   "metadata": {
    "collapsed": true
   },
   "outputs": [],
   "source": [
    "data=pd.read_csv('2016_Racial_Profiling_Dataset_Arrests.csv')\n",
    "keys=data.keys()"
   ]
  },
  {
   "cell_type": "code",
   "execution_count": 189,
   "metadata": {},
   "outputs": [],
   "source": [
    "with open('viz/data/austin_area_zip_codes.geojson') as file:\n",
    "    data2 = geojson.load(file)\n",
    "data2 = data2['features']\n",
    "zippolygondict = {}\n",
    "for n in range(len(data2)):\n",
    "    zippolygondict[int(data2[n]['properties']['zipcode'])] = geometry.Polygon([[p[1], p[0]] for p in data2[n]['geometry']['coordinates'][0][0]])"
   ]
  },
  {
   "cell_type": "code",
   "execution_count": 220,
   "metadata": {},
   "outputs": [],
   "source": [
    "from shapely.geometry import Point\n",
    "keys = list(zippolygondict.keys())\n",
    "def checkzipcode(X,Y):\n",
    "    #X and Y are coordinates as float objects\n",
    "    for m in range(len(keys)):\n",
    "        if zippolygondict[keys[m]].contains(Point(X,Y)):\n",
    "            return keys[m]"
   ]
  },
  {
   "cell_type": "code",
   "execution_count": 124,
   "metadata": {},
   "outputs": [],
   "source": [
    "X = data['X_COORDINATE'].as_matrix().astype(float)\n",
    "Y = data['Y_COORDINATE'].as_matrix().astype(float)\n",
    "zipcodes = np.zeros((len(data['SEX']),))\n",
    "for n in range(len(X)):\n",
    "    coordinates = stateplane.to_latlon(X[n]*.3048, Y[n]*.3048, epsg=None, fips='4203', abbr=None)\n",
    "    X[n] = coordinates[0]\n",
    "    Y[n] = coordinates[1]\n",
    "    zipcodes[n] = checkzipcode(X[n],Y[n])\n",
    "data['X_COORDINATE'] = X\n",
    "data['Y_COORDINATE'] = Y\n",
    "data['ZIP_CODE'] = zipcodes\n",
    "data.to_csv('2016_Racial_Profiling_Dataset_Arrests_LonLat.csv')"
   ]
  },
  {
   "cell_type": "code",
   "execution_count": 221,
   "metadata": {
    "collapsed": true
   },
   "outputs": [],
   "source": [
    "\n",
    "for n in range(len(data['SEX'])):\n",
    "    \n"
   ]
  },
  {
   "cell_type": "code",
   "execution_count": 11,
   "metadata": {},
   "outputs": [
    {
     "data": {
      "text/plain": [
       "0.74989111498257843"
      ]
     },
     "execution_count": 11,
     "metadata": {},
     "output_type": "execute_result"
    }
   ],
   "source": [
    "np.sum(data['SEX'] == 'M')/len(data['SEX'])"
   ]
  },
  {
   "cell_type": "code",
   "execution_count": 20,
   "metadata": {},
   "outputs": [
    {
     "data": {
      "text/plain": [
       "0.23432055749128919"
      ]
     },
     "execution_count": 20,
     "metadata": {},
     "output_type": "execute_result"
    }
   ],
   "source": [
    "np.sum(data['APD_RACE_DESC'] == 'BLACK')/len(data['SEX'])"
   ]
  },
  {
   "cell_type": "code",
   "execution_count": 196,
   "metadata": {},
   "outputs": [
    {
     "data": {
      "text/plain": [
       "[-97.890016, 30.209412]"
      ]
     },
     "execution_count": 196,
     "metadata": {},
     "output_type": "execute_result"
    }
   ],
   "source": [
    "data2[0]['geometry']['coordinates'][0][0][0]"
   ]
  },
  {
   "cell_type": "code",
   "execution_count": 213,
   "metadata": {},
   "outputs": [],
   "source": [
    "keys=zippolygondict.keys()"
   ]
  },
  {
   "cell_type": "code",
   "execution_count": 222,
   "metadata": {},
   "outputs": [
    {
     "data": {
      "text/plain": [
       "array([ 78758.,  78745.,  78745., ...,  78704.,  78741.,  78745.])"
      ]
     },
     "execution_count": 222,
     "metadata": {},
     "output_type": "execute_result"
    }
   ],
   "source": [
    "zipcodes"
   ]
  },
  {
   "cell_type": "code",
   "execution_count": null,
   "metadata": {
    "collapsed": true
   },
   "outputs": [],
   "source": []
  }
 ],
 "metadata": {
  "kernelspec": {
   "display_name": "Python 3",
   "language": "python",
   "name": "python3"
  },
  "language_info": {
   "codemirror_mode": {
    "name": "ipython",
    "version": 3
   },
   "file_extension": ".py",
   "mimetype": "text/x-python",
   "name": "python",
   "nbconvert_exporter": "python",
   "pygments_lexer": "ipython3",
   "version": "3.6.3"
  }
 },
 "nbformat": 4,
 "nbformat_minor": 2
}
