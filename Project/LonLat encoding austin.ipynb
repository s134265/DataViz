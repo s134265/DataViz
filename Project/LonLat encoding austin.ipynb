{
 "cells": [
  {
   "cell_type": "code",
   "execution_count": 138,
   "metadata": {
    "collapsed": true
   },
   "outputs": [],
   "source": [
    "from pyproj import Proj, transform\n",
    "import stateplane\n",
    "import geopandas as gpd\n",
    "import pandas as pd\n",
    "import numpy as np\n",
    "import matplotlib.pyplot as plt\n",
    "from shapely.geometry import Point"
   ]
  },
  {
   "cell_type": "code",
   "execution_count": 139,
   "metadata": {
    "collapsed": true
   },
   "outputs": [],
   "source": [
    "data=pd.read_csv('2016_Racial_Profiling_Dataset_Arrests.csv')\n",
    "keys=data.keys()"
   ]
  },
  {
   "cell_type": "code",
   "execution_count": 140,
   "metadata": {},
   "outputs": [],
   "source": [
    "X = data['X_COORDINATE'].as_matrix().astype(float)\n",
    "Y = data['Y_COORDINATE'].as_matrix().astype(float)\n",
    "\n",
    "for n in range(len(X)):\n",
    "    coordinates = stateplane.to_latlon(X[n]*.3048, Y[n]*.3048, epsg=None, fips='4203', abbr=None)\n",
    "    X[n] = coordinates[0]\n",
    "    Y[n] = coordinates[1]\n",
    "data['X_COORDINATE'] = X\n",
    "data['Y_COORDINATE'] = Y\n",
    "data.to_csv('2016_Racial_Profiling_Dataset_Arrests_LonLat.csv')"
   ]
  },
  {
   "cell_type": "code",
   "execution_count": null,
   "metadata": {
    "collapsed": true
   },
   "outputs": [],
   "source": []
  }
 ],
 "metadata": {
  "kernelspec": {
   "display_name": "Python 3",
   "language": "python",
   "name": "python3"
  },
  "language_info": {
   "codemirror_mode": {
    "name": "ipython",
    "version": 3
   },
   "file_extension": ".py",
   "mimetype": "text/x-python",
   "name": "python",
   "nbconvert_exporter": "python",
   "pygments_lexer": "ipython3",
   "version": "3.6.3"
  }
 },
 "nbformat": 4,
 "nbformat_minor": 2
}
