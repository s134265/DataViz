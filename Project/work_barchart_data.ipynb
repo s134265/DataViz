{
 "cells": [
  {
   "cell_type": "code",
   "execution_count": 209,
   "metadata": {},
   "outputs": [],
   "source": [
    "import pandas as pd\n",
    "import numpy as np\n",
    "import matplotlib.pyplot as plt"
   ]
  },
  {
   "cell_type": "code",
   "execution_count": 210,
   "metadata": {},
   "outputs": [],
   "source": [
    "data=pd.read_csv('2016_Racial_Profiling_Dataset_Arrests_LonLat.csv')\n",
    "keys=data.keys()"
   ]
  },
  {
   "cell_type": "code",
   "execution_count": 211,
   "metadata": {},
   "outputs": [
    {
     "data": {
      "text/plain": [
       "['Unnamed: 0',\n",
       " 'PRIMARY_KEY',\n",
       " 'REP_DATE',\n",
       " 'REP_TIME',\n",
       " 'SEX',\n",
       " 'AGE_AT_OFFENSE',\n",
       " 'APD_RACE_DESC',\n",
       " 'LOCATION',\n",
       " 'PERSON_SEARCHED_DESC',\n",
       " 'REASON_FOR_STOP_DESC',\n",
       " 'SEARCH_BASED_ON_DESC',\n",
       " 'SEARCH_DISC_DESC',\n",
       " 'RACE_KNOWN',\n",
       " 'X_COORDINATE',\n",
       " 'Y_COORDINATE',\n",
       " 'SECTOR',\n",
       " 'LOCAL_FIELD1',\n",
       " 'ZIP_CODE']"
      ]
     },
     "execution_count": 211,
     "metadata": {},
     "output_type": "execute_result"
    }
   ],
   "source": [
    "list(data)"
   ]
  },
  {
   "cell_type": "code",
   "execution_count": 212,
   "metadata": {},
   "outputs": [
    {
     "data": {
      "text/plain": [
       "0.7498911149825784"
      ]
     },
     "execution_count": 212,
     "metadata": {},
     "output_type": "execute_result"
    }
   ],
   "source": [
    "np.sum(data['SEX'] == 'M')/len(data['SEX'])"
   ]
  },
  {
   "cell_type": "code",
   "execution_count": 213,
   "metadata": {},
   "outputs": [
    {
     "name": "stdout",
     "output_type": "stream",
     "text": [
      "['zip', 'WHITE', 'HISPANIC OR LATINO', 'BLACK', 'ASIAN', 'MIDDLE EASTERN', 'UNKNOWN', 'HAWAIIAN/PACIFIC ISLANDER', 'AMERICAN INDIAN/ALASKAN NATIVE', 'WHITEisRaceKnown', 'HISPANIC OR LATINOisRaceKnown', 'BLACKisRaceKnown', 'ASIANisRaceKnown', 'MIDDLE EASTERNisRaceKnown', 'UNKNOWNisRaceKnown', 'HAWAIIAN/PACIFIC ISLANDERisRaceKnown', 'AMERICAN INDIAN/ALASKAN NATIVEisRaceKnown']\n"
     ]
    }
   ],
   "source": [
    "#convert zip to strings\n",
    "data['ZIP_CODE'] = data['ZIP_CODE'].astype(str).str[:-2]\n",
    "zipcodes = data.ZIP_CODE.unique()\n",
    "races = data.APD_RACE_DESC.unique()\n",
    "raceknown = races + 'isRaceKnown'\n",
    "columns = [*np.array([\"zip\"]),*races, *raceknown]\n",
    "print(columns)\n",
    "df = pd.DataFrame(columns=columns)"
   ]
  },
  {
   "cell_type": "code",
   "execution_count": 214,
   "metadata": {},
   "outputs": [
    {
     "data": {
      "text/plain": [
       "0.2343205574912892"
      ]
     },
     "execution_count": 214,
     "metadata": {},
     "output_type": "execute_result"
    }
   ],
   "source": [
    "np.sum(data['APD_RACE_DESC'] == 'BLACK')/len(data['SEX'])"
   ]
  },
  {
   "cell_type": "code",
   "execution_count": 215,
   "metadata": {},
   "outputs": [
    {
     "name": "stdout",
     "output_type": "stream",
     "text": [
      "46\n",
      "9184\n"
     ]
    }
   ],
   "source": [
    "print(zipcodes.size)\n",
    "print(data.shape[0])"
   ]
  },
  {
   "cell_type": "code",
   "execution_count": 216,
   "metadata": {},
   "outputs": [],
   "source": [
    "test = 0\n",
    "largearray =  np.empty([zipcodes.size,len(columns)])\n",
    "for i in range(zipcodes.size):\n",
    "    largearray[i,0] = zipcodes[i]"
   ]
  },
  {
   "cell_type": "code",
   "execution_count": 217,
   "metadata": {},
   "outputs": [
    {
     "name": "stdout",
     "output_type": "stream",
     "text": [
      "17\n",
      "['WHITE' 'HISPANIC OR LATINO' 'BLACK' 'ASIAN' 'MIDDLE EASTERN' 'UNKNOWN'\n",
      " 'HAWAIIAN/PACIFIC ISLANDER' 'AMERICAN INDIAN/ALASKAN NATIVE']\n"
     ]
    }
   ],
   "source": [
    "print(largearray.shape[1])\n",
    "print(races)"
   ]
  },
  {
   "cell_type": "code",
   "execution_count": 251,
   "metadata": {},
   "outputs": [
    {
     "name": "stdout",
     "output_type": "stream",
     "text": [
      "(46, 17)\n"
     ]
    }
   ],
   "source": [
    "currentData = pd.DataFrame()\n",
    "rows = np.zeros([zipcodes.size, len(columns)])\n",
    "rows[0]=np.arange(17)\n",
    "\n",
    "for i in range(zipcodes.size):\n",
    "\n",
    "    Zip = np.array([zipcodes[i]])\n",
    "    currentData=(data.loc[data['ZIP_CODE']==zipcodes[i]])\n",
    "    #now find number of each race\n",
    "    currentnraces = np.array(np.zeros(races.size))\n",
    "    nraces=np.empty(races.size)\n",
    "    nracesknown=np.empty(races.size)\n",
    "    for j in range(races.size):\n",
    "        currentnraces=currentData.loc[currentData['APD_RACE_DESC']==races[j]]\n",
    "        nraces[j]=currentnraces.shape[0]\n",
    "        nracesknown[j]=currentnraces.loc[currentnraces['RACE_KNOWN']=='YES - RACE OR ETHNICITY WAS KNOWN BEFORE STOP'].shape[0]\n",
    "    row=np.concatenate([Zip,nraces,nracesknown])\n",
    "    rows[i]=row\n",
    "    #convert row to df\n",
    "df = pd.DataFrame(rows, columns=columns)\n",
    "print(df.shape)"
   ]
  },
  {
   "cell_type": "code",
   "execution_count": 253,
   "metadata": {},
   "outputs": [],
   "source": [
    "df.to_csv('zip_specific_stats.csv', float_format='%.f')"
   ]
  },
  {
   "cell_type": "code",
   "execution_count": null,
   "metadata": {},
   "outputs": [],
   "source": []
  },
  {
   "cell_type": "code",
   "execution_count": null,
   "metadata": {},
   "outputs": [],
   "source": []
  },
  {
   "cell_type": "code",
   "execution_count": null,
   "metadata": {},
   "outputs": [],
   "source": []
  }
 ],
 "metadata": {
  "kernelspec": {
   "display_name": "Python 3",
   "language": "python",
   "name": "python3"
  },
  "language_info": {
   "codemirror_mode": {
    "name": "ipython",
    "version": 3
   },
   "file_extension": ".py",
   "mimetype": "text/x-python",
   "name": "python",
   "nbconvert_exporter": "python",
   "pygments_lexer": "ipython3",
   "version": "3.6.4"
  }
 },
 "nbformat": 4,
 "nbformat_minor": 2
}
