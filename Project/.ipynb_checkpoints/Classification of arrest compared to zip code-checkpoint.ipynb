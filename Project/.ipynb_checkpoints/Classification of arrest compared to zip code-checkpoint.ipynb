{
 "cells": [
  {
   "cell_type": "code",
   "execution_count": 257,
   "metadata": {
    "collapsed": true
   },
   "outputs": [],
   "source": [
    "import pandas as pd\n",
    "import numpy as np\n",
    "from sklearn.linear_model import LogisticRegression as LR\n",
    "from sklearn.svm import SVC\n",
    "from sklearn.model_selection import train_test_split\n",
    "from scipy.stats import zscore\n",
    "from scipy.linalg import svd\n",
    "import matplotlib.pyplot as plt\n",
    "import seaborn as sns\n",
    "sns.set(style=\"white\")"
   ]
  },
  {
   "cell_type": "code",
   "execution_count": 117,
   "metadata": {
    "collapsed": true
   },
   "outputs": [],
   "source": [
    "#Load data\n",
    "data=pd.read_csv('2016_Racial_Profiling_Dataset_Arrests_LonLat.csv')\n",
    "keys=data.keys()\n",
    "data2=pd.read_csv('2014_Housing_Market_Analysis_Data_by_Zip_Code.csv')\n",
    "keys2=data2.keys()"
   ]
  },
  {
   "cell_type": "code",
   "execution_count": 119,
   "metadata": {},
   "outputs": [],
   "source": [
    "#Get Zip code information\n",
    "zipcode = data.loc[:,\"ZIP_CODE\"]\n",
    "zipOccurences = zipcode.value_counts()\n",
    "zipcode2 = data2.loc[:,\"Zip Code\"]\n",
    "zip2Occurences = zipcode2.value_counts()"
   ]
  },
  {
   "cell_type": "code",
   "execution_count": 120,
   "metadata": {},
   "outputs": [],
   "source": [
    "#Drop missing zip codes\n",
    "test = zipOccurences.keys()\n",
    "test2 = zip2Occurences.keys()\n",
    "data = data.drop(data[~data['ZIP_CODE'].isin(test2)].index)\n",
    "data2 = data2.drop(1)"
   ]
  },
  {
   "cell_type": "code",
   "execution_count": 121,
   "metadata": {},
   "outputs": [],
   "source": [
    "#Drop insufficient data\n",
    "zipcode = data.loc[:,\"ZIP_CODE\"]\n",
    "zipOccurences = zipcode.value_counts()\n",
    "test3 =  zipOccurences.keys()\n",
    "test3 = test3[-4:]\n",
    "data = data.drop(data[data['ZIP_CODE'].isin(test3)].index)\n",
    "data2 = data2.drop(data2[data2['Zip Code'].isin(test3)].index)"
   ]
  },
  {
   "cell_type": "code",
   "execution_count": 129,
   "metadata": {},
   "outputs": [],
   "source": [
    "#Find non white in zip code\n",
    "per1 = data2['Non-White, Non-Hispanic or Latino'].as_matrix()\n",
    "per2 = data2['Hispanic or Latino, of any race'].as_matrix()\n",
    "per1 = np.array([float(x.strip('%'))/100 for x in per1])\n",
    "per2 = np.array([float(x.strip('%'))/100 for x in per2])\n",
    "data2['Non White'] = per1 + per2"
   ]
  },
  {
   "cell_type": "code",
   "execution_count": 130,
   "metadata": {},
   "outputs": [],
   "source": [
    "#Define the racial difference by zip code\n",
    "zipcode = data.loc[:,\"ZIP_CODE\"]\n",
    "zipOccurences = zipcode.value_counts()\n",
    "race = data[[\"APD_RACE_DESC\",\"ZIP_CODE\"]]\n",
    "race = race.loc[race['APD_RACE_DESC'] == \"WHITE\"]\n",
    "data2 = data2.sort_values(by='Zip Code')\n",
    "data2['Non White Arrests'] = 1 - (race.loc[:,\"ZIP_CODE\"].value_counts() / zipOccurences).as_matrix()\n",
    "data2['Difference in Racial by Zip Code'] = (1 - (race.loc[:,\"ZIP_CODE\"].value_counts() / zipOccurences).as_matrix())/(per1 + per2)"
   ]
  },
  {
   "cell_type": "code",
   "execution_count": 301,
   "metadata": {},
   "outputs": [],
   "source": [
    "#Extract data to work with as np array\n",
    "liste = list(keys2[[0,1,2,5,6,7,12,13,28]])\n",
    "liste.append('Difference in Racial by Zip Code')\n",
    "datawork = data2[liste].as_matrix()"
   ]
  },
  {
   "cell_type": "code",
   "execution_count": 302,
   "metadata": {},
   "outputs": [],
   "source": [
    "#Data stripping for annoying strings\n",
    "Y_temp = datawork[:,-1]\n",
    "X = datawork[:,1:-1]\n",
    "X1 = np.array([float(x.strip('%'))/100 for x in X[:,0]])\n",
    "X2 = np.array([int(x.strip('$')) for x in X[:,1]])\n",
    "X3 = np.array([float(x.strip('%'))/100 for x in X[:,2]])\n",
    "X4 = np.array([float(x.strip('%'))/100 for x in X[:,3]])\n",
    "X5 = np.array([float(x.strip('%'))/100 for x in X[:,4]])\n",
    "X6 = np.array([int(x.strip('$')) for x in X[:,5]])\n",
    "X7 = np.array([int(x.strip('$')) for x in X[:,6]])\n",
    "X8 = np.array([int(x.strip('$')) for x in X[:,7]])\n",
    "X = zscore(np.array([X1,X2,X3,X4,X5,X6,X7,X8]).T)\n",
    "#Define classes\n",
    "Y = np.zeros((len(Y_temp),))\n",
    "for n in range(len(Y_temp)):\n",
    "    if Y_temp[n] > 1:\n",
    "        Y[n] =1\n"
   ]
  },
  {
   "cell_type": "code",
   "execution_count": 279,
   "metadata": {},
   "outputs": [
    {
     "data": {
      "text/plain": [
       "LogisticRegression(C=1.0, class_weight=None, dual=False, fit_intercept=True,\n",
       "          intercept_scaling=1, max_iter=100, multi_class='ovr', n_jobs=1,\n",
       "          penalty='l2', random_state=None, solver='liblinear', tol=0.0001,\n",
       "          verbose=0, warm_start=False)"
      ]
     },
     "execution_count": 279,
     "metadata": {},
     "output_type": "execute_result"
    }
   ],
   "source": [
    "#SVD for more information storage in visualization\n",
    "U, S, V = svd(X)\n",
    "Z = np.dot(X,V.T)\n",
    "#Train classifiers\n",
    "clfsvm = SVC(probability=True)\n",
    "clflr = LR()\n",
    "clfsvm.fit(Z[:,:2],Y)\n",
    "clflr.fit(Z[:,:2],Y)"
   ]
  },
  {
   "cell_type": "code",
   "execution_count": 264,
   "metadata": {},
   "outputs": [
    {
     "data": {
      "image/png": "[encoded data removed]",
      "text/plain": [
       "<matplotlib.figure.Figure at 0x7f559379a7f0>"
      ]
     },
     "metadata": {},
     "output_type": "display_data"
    }
   ],
   "source": [
    "#Plot contour of Logistic Regression\n",
    "xx, yy = np.mgrid[-5:5:.01, -5:5:.01]\n",
    "grid = np.c_[xx.ravel(), yy.ravel()]\n",
    "probs = clflr.predict_proba(grid)[:, 1].reshape(xx.shape)\n",
    "f, ax = plt.subplots(figsize=(8, 6))\n",
    "contour = ax.contourf(xx, yy, probs, 25, cmap=\"RdBu\",\n",
    "                      vmin=0, vmax=1)\n",
    "ax_c = f.colorbar(contour)\n",
    "ax_c.set_label(\"$P(y = 1)$\")\n",
    "ax_c.set_ticks([0, .25, .5, .75, 1])\n",
    "\n",
    "ax.scatter(Z[:,0], Z[:, 1], c=Y, s=50,\n",
    "           cmap=\"RdBu\", vmin=-.2, vmax=1.2,\n",
    "           edgecolor=\"white\", linewidth=1)\n",
    "\n",
    "ax.set(aspect=\"equal\",\n",
    "       xlim=(-5, 5), ylim=(-5, 5),\n",
    "       xlabel=\"$PC_1$\", ylabel=\"$PC_2$\")\n",
    "plt.show()"
   ]
  },
  {
   "cell_type": "code",
   "execution_count": 295,
   "metadata": {},
   "outputs": [],
   "source": [
    "#Define functions for meshgrid and contour for SVM\n",
    "import numpy as np\n",
    "import matplotlib.pyplot as plt\n",
    "from sklearn import svm, datasets\n",
    "\n",
    "\n",
    "def make_meshgrid(x, y, h=.02):\n",
    "    \"\"\"Create a mesh of points to plot in\n",
    "\n",
    "    Parameters\n",
    "    ----------\n",
    "    x: data to base x-axis meshgrid on\n",
    "    y: data to base y-axis meshgrid on\n",
    "    h: stepsize for meshgrid, optional\n",
    "\n",
    "    Returns\n",
    "    -------\n",
    "    xx, yy : ndarray\n",
    "    \"\"\"\n",
    "    x_min, x_max = x.min() - 1, x.max() + 1\n",
    "    y_min, y_max = y.min() - 1, y.max() + 1\n",
    "    xx, yy = np.meshgrid(np.arange(x_min, x_max, h),\n",
    "                         np.arange(y_min, y_max, h))\n",
    "    return xx, yy\n",
    "\n",
    "\n",
    "def plot_contours(ax, clf, xx, yy, **params):\n",
    "    \"\"\"Plot the decision boundaries for a classifier.\n",
    "\n",
    "    Parameters\n",
    "    ----------\n",
    "    ax: matplotlib axes object\n",
    "    clf: a classifier\n",
    "    xx: meshgrid ndarray\n",
    "    yy: meshgrid ndarray\n",
    "    params: dictionary of params to pass to contourf, optional\n",
    "    \"\"\"\n",
    "    Z = clf.predict_proba(np.c_[xx.ravel(), yy.ravel()])[:, 1].reshape(xx.shape)\n",
    "    out = ax.contourf(xx, yy, Z, **params)\n",
    "    return out"
   ]
  },
  {
   "cell_type": "code",
   "execution_count": 304,
   "metadata": {},
   "outputs": [
    {
     "data": {
      "image/png": "[encoded data removed]",
      "text/plain": [
       "<matplotlib.figure.Figure at 0x7f55952209b0>"
      ]
     },
     "metadata": {},
     "output_type": "display_data"
    }
   ],
   "source": [
    "#Plot contour for SVM\n",
    "fig, ax = plt.subplots(1,1)\n",
    "Z0, Z1 = Z[:, 0], Z[:, 1]\n",
    "xz, yz = make_meshgrid(Z0, Z1)\n",
    "contour = plot_contours(ax, clfsvm, xz, yz, cmap=plt.cm.coolwarm, alpha=0.8)\n",
    "ax.scatter(Z0, Z1, c=Y, cmap=plt.cm.coolwarm, s=20, edgecolors='k')\n",
    "ax_c = fig.colorbar(contour)\n",
    "ax_c.set_label(\"$P(y = 1)$\")\n",
    "ax_c.set_ticks([0, .25, .5, .75, 1])\n",
    "ax.set_xlim(xz.min(), xz.max())\n",
    "ax.set_ylim(yz.min(), yz.max())\n",
    "ax.set_xlabel('$PC_1$')\n",
    "ax.set_ylabel('$PC_2$')\n",
    "ax.set_title('SVM Decision Boundary')\n",
    "plt.savefig('SVM.svg',dvi=1000)\n",
    "plt.show()"
   ]
  },
  {
   "cell_type": "code",
   "execution_count": 284,
   "metadata": {},
   "outputs": [
    {
     "data": {
      "text/plain": [
       "array([[ 0.39640684, -0.4664911 ,  0.25655249,  0.42912893,  0.29344637,\n",
       "        -0.33228481, -0.42094776, -0.03944438],\n",
       "       [ 0.25032206, -0.17462245,  0.14393849,  0.10791095, -0.52470363,\n",
       "         0.1463477 ,  0.21402134, -0.72934636],\n",
       "       [-0.46160409,  0.13317211,  0.82500789, -0.1228418 , -0.095573  ,\n",
       "        -0.23555588, -0.08088344, -0.04791475],\n",
       "       [ 0.01131427,  0.15866711,  0.30659792,  0.40606893,  0.31761638,\n",
       "         0.78288717,  0.03664519,  0.02582863],\n",
       "       [-0.36904165, -0.19381285, -0.21072961, -0.10550713, -0.2363096 ,\n",
       "         0.31818881, -0.77243119, -0.13026831],\n",
       "       [ 0.1902572 ,  0.00590976,  0.06784186, -0.65179455,  0.57227718,\n",
       "         0.0937608 , -0.08463338, -0.43689078],\n",
       "       [ 0.3368066 , -0.44393892,  0.28183421, -0.43058085, -0.28994619,\n",
       "         0.29646417,  0.05903726,  0.49920332],\n",
       "       [ 0.5302508 ,  0.68869651,  0.10189312, -0.05342044, -0.24728277,\n",
       "        -0.04294246, -0.40226198,  0.08054649]])"
      ]
     },
     "execution_count": 284,
     "metadata": {},
     "output_type": "execute_result"
    }
   ],
   "source": [
    "V"
   ]
  },
  {
   "cell_type": "code",
   "execution_count": 298,
   "metadata": {},
   "outputs": [
    {
     "data": {
      "text/plain": [
       "Index(['Zip Code', 'Population below poverty level', 'Median household income',\n",
       "       'Population with disability', 'Unemployment',\n",
       "       'Large households (5+ members)', 'Median rent', 'Median home value',\n",
       "       'Average monthly transportation cost'],\n",
       "      dtype='object')"
      ]
     },
     "execution_count": 298,
     "metadata": {},
     "output_type": "execute_result"
    }
   ],
   "source": [
    "keys2[[0,1,2,5,6,7,12,13,28]]"
   ]
  },
  {
   "cell_type": "code",
   "execution_count": 305,
   "metadata": {},
   "outputs": [],
   "source": [
    "data2.to_csv('2014_Housing_Market_Analysis_Data_by_Zip_Code_with_Classes.csv')"
   ]
  }
 ],
 "metadata": {
  "kernelspec": {
   "display_name": "Python 3",
   "language": "python",
   "name": "python3"
  },
  "language_info": {
   "codemirror_mode": {
    "name": "ipython",
    "version": 3
   },
   "file_extension": ".py",
   "mimetype": "text/x-python",
   "name": "python",
   "nbconvert_exporter": "python",
   "pygments_lexer": "ipython3",
   "version": "3.6.3"
  }
 },
 "nbformat": 4,
 "nbformat_minor": 2
}
